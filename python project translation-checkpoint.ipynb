{
 "cells": [
  {
   "cell_type": "code",
   "execution_count": 1,
   "id": "87198385",
   "metadata": {},
   "outputs": [
    {
     "name": "stdout",
     "output_type": "stream",
     "text": [
      "Enter text to translate: I am 21 years old\n",
      "Enter target language code (e.g., 'en' for English, 'hi' for Hindi): hi\n",
      "Translated Text: मेरी उम्र 21 साल की है\n"
     ]
    }
   ],
   "source": [
    "from googletrans import Translator\n",
    "\n",
    "def translate_text(text, target_language):\n",
    "    translator = Translator()\n",
    "    translation = translator.translate(text, dest=target_language)\n",
    "    return translation.text\n",
    "\n",
    "if __name__ == \"__main__\":\n",
    "    text = input(\"Enter text to translate: \")\n",
    "    target_language = input(\"Enter target language code (e.g., 'en' for English, 'hi' for Hindi): \")\n",
    "\n",
    "    translated_text = translate_text(text, target_language)\n",
    "    print(f\"Translated Text: {translated_text}\")\n"
   ]
  },
  {
   "cell_type": "code",
   "execution_count": null,
   "id": "bbdb3a6b",
   "metadata": {},
   "outputs": [],
   "source": []
  }
 ],
 "metadata": {
  "kernelspec": {
   "display_name": "Python 3 (ipykernel)",
   "language": "python",
   "name": "python3"
  },
  "language_info": {
   "codemirror_mode": {
    "name": "ipython",
    "version": 3
   },
   "file_extension": ".py",
   "mimetype": "text/x-python",
   "name": "python",
   "nbconvert_exporter": "python",
   "pygments_lexer": "ipython3",
   "version": "3.9.12"
  }
 },
 "nbformat": 4,
 "nbformat_minor": 5
}
